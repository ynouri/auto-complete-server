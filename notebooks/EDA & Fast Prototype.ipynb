{
 "cells": [
  {
   "cell_type": "markdown",
   "metadata": {},
   "source": [
    "# ASAPP ML NLP Engineering Challenge - Auto Complete Server"
   ]
  },
  {
   "cell_type": "markdown",
   "metadata": {},
   "source": [
    "The goal of this exercise is to code a relevant, robust, fast auto completion server that will be used to provide auto completion suggestions to customer service agents. The auto completion model will be trained on a provided set of customer/agent conversations.\n",
    "\n",
    "This notebook will be used to explore the data and start prototyping the future components of our auto-complete server."
   ]
  },
  {
   "cell_type": "code",
   "execution_count": 2,
   "metadata": {
    "collapsed": true
   },
   "outputs": [],
   "source": [
    "import json\n",
    "import pandas as pd"
   ]
  },
  {
   "cell_type": "markdown",
   "metadata": {},
   "source": [
    "## Load Data\n",
    "\n",
    "The conversation json file is loaded into a dataframe where each row represents a message part of a given issue."
   ]
  },
  {
   "cell_type": "code",
   "execution_count": 4,
   "metadata": {},
   "outputs": [],
   "source": [
    "sample_file = '../data/sample_conversations.json'\n",
    " \n",
    "with open(sample_file, encoding='utf8') as f:\n",
    "    sample_json = json.loads(f.read())\n",
    "    \n",
    "df = pd.io.json.json_normalize(\n",
    "    data=sample_json,\n",
    "    record_path=['Issues', 'Messages'],\n",
    "    meta=[\n",
    "        ['Issues', 'CompanyGroupId'],\n",
    "        ['Issues', 'IssueId']\n",
    "    ]\n",
    ")\n",
    " \n",
    "df = df[['Issues.IssueId', 'Issues.CompanyGroupId', 'IsFromCustomer', 'Text']]\n",
    "df.rename(columns={'Issues.IssueId': 'IssueId', 'Issues.CompanyGroupId': 'CompanyGroupId'},\n",
    "          inplace=True)"
   ]
  },
  {
   "cell_type": "markdown",
   "metadata": {},
   "source": [
    "Since our interest is in providing autocompletion suggestions to the customer service agent, we need to focus on their own messages, which are tagged with `IsFromCustomer = False`"
   ]
  },
  {
   "cell_type": "code",
   "execution_count": 6,
   "metadata": {},
   "outputs": [
    {
     "data": {
      "text/html": [
       "<div>\n",
       "<style scoped>\n",
       "    .dataframe tbody tr th:only-of-type {\n",
       "        vertical-align: middle;\n",
       "    }\n",
       "\n",
       "    .dataframe tbody tr th {\n",
       "        vertical-align: top;\n",
       "    }\n",
       "\n",
       "    .dataframe thead th {\n",
       "        text-align: right;\n",
       "    }\n",
       "</style>\n",
       "<table border=\"1\" class=\"dataframe\">\n",
       "  <thead>\n",
       "    <tr style=\"text-align: right;\">\n",
       "      <th></th>\n",
       "      <th>IssueId</th>\n",
       "      <th>CompanyGroupId</th>\n",
       "      <th>IsFromCustomer</th>\n",
       "      <th>Text</th>\n",
       "    </tr>\n",
       "  </thead>\n",
       "  <tbody>\n",
       "    <tr>\n",
       "      <th>9</th>\n",
       "      <td>30001</td>\n",
       "      <td>40001</td>\n",
       "      <td>False</td>\n",
       "      <td>Hello Werner how may I help you today?</td>\n",
       "    </tr>\n",
       "    <tr>\n",
       "      <th>11</th>\n",
       "      <td>30001</td>\n",
       "      <td>40001</td>\n",
       "      <td>False</td>\n",
       "      <td>Sure I can help you with that? Could you pleas...</td>\n",
       "    </tr>\n",
       "    <tr>\n",
       "      <th>13</th>\n",
       "      <td>30001</td>\n",
       "      <td>40001</td>\n",
       "      <td>False</td>\n",
       "      <td>Let me update that information on our system</td>\n",
       "    </tr>\n",
       "    <tr>\n",
       "      <th>14</th>\n",
       "      <td>30001</td>\n",
       "      <td>40001</td>\n",
       "      <td>False</td>\n",
       "      <td>OK Wernzio, I have updated your address to the...</td>\n",
       "    </tr>\n",
       "    <tr>\n",
       "      <th>16</th>\n",
       "      <td>30001</td>\n",
       "      <td>40001</td>\n",
       "      <td>False</td>\n",
       "      <td>Ok let me go ahead and request a work order fo...</td>\n",
       "    </tr>\n",
       "  </tbody>\n",
       "</table>\n",
       "</div>"
      ],
      "text/plain": [
       "    IssueId  CompanyGroupId  IsFromCustomer  \\\n",
       "9     30001           40001           False   \n",
       "11    30001           40001           False   \n",
       "13    30001           40001           False   \n",
       "14    30001           40001           False   \n",
       "16    30001           40001           False   \n",
       "\n",
       "                                                 Text  \n",
       "9              Hello Werner how may I help you today?  \n",
       "11  Sure I can help you with that? Could you pleas...  \n",
       "13       Let me update that information on our system  \n",
       "14  OK Wernzio, I have updated your address to the...  \n",
       "16  Ok let me go ahead and request a work order fo...  "
      ]
     },
     "execution_count": 6,
     "metadata": {},
     "output_type": "execute_result"
    }
   ],
   "source": [
    "from_agent = df.IsFromCustomer == False\n",
    "df[from_agent].head(5)"
   ]
  }
 ],
 "metadata": {
  "kernelspec": {
   "display_name": "Python 3",
   "language": "python",
   "name": "python3"
  },
  "language_info": {
   "codemirror_mode": {
    "name": "ipython",
    "version": 3
   },
   "file_extension": ".py",
   "mimetype": "text/x-python",
   "name": "python",
   "nbconvert_exporter": "python",
   "pygments_lexer": "ipython3",
   "version": "3.6.4"
  }
 },
 "nbformat": 4,
 "nbformat_minor": 2
}
